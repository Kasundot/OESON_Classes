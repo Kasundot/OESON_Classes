{
 "cells": [
  {
   "cell_type": "markdown",
   "id": "1d051b08-c89e-4824-82ec-2ae313005142",
   "metadata": {},
   "source": [
    "# "
   ]
  },
  {
   "cell_type": "markdown",
   "id": "d75e8b40-acc6-4157-b266-3f986da6108c",
   "metadata": {},
   "source": [
    "Introduction to Numpy"
   ]
  },
  {
   "cell_type": "markdown",
   "id": "4ec0c3c8-93fe-40d5-a8c7-4d4663d9d174",
   "metadata": {},
   "source": [
    "1. N-Dimensional Array\n",
    "2. Broadcasting\n",
    "3. Mathematical Functions\n",
    "4. Performance"
   ]
  },
  {
   "cell_type": "markdown",
   "id": "4880a5e6-b926-41f0-996c-dc10df085ca9",
   "metadata": {},
   "source": [
    "NumPy Arrays"
   ]
  },
  {
   "cell_type": "code",
   "execution_count": 16,
   "id": "2855cd4b-11db-48bf-9c61-a10a1832d7cd",
   "metadata": {},
   "outputs": [
    {
     "name": "stdout",
     "output_type": "stream",
     "text": [
      "Create an array from a list : \n",
      " [1 2 3 4 5]\n",
      "Create an array of zeroes : \n",
      " [0. 0. 0. 0. 0.]\n",
      "Create and array of ones : \n",
      " [[1. 1. 1.]\n",
      " [1. 1. 1.]\n",
      " [1. 1. 1.]]\n",
      "Create an array of evenly spaced values : \n",
      " [0 2 4 6 8]\n",
      "Create an array of random values : \n",
      " [[0.58242037 0.60378756 0.6531457 ]\n",
      " [0.63621875 0.10245368 0.55780171]\n",
      " [0.26376712 0.14941289 0.57668745]]\n"
     ]
    }
   ],
   "source": [
    "#Creating NumPy arrays\n",
    "import numpy as np\n",
    "\n",
    "#Create an array from a list\n",
    "arr1=np.array([1,2,3,4,5])\n",
    "print(f'Create an array from a list : \\n {arr1}')\n",
    "\n",
    "#Create an array of zeroes\n",
    "arr2=np.zeros(5)\n",
    "print(f'Create an array of zeroes : \\n {arr2}')\n",
    "\n",
    "#Create and array of ones\n",
    "arr3=np.ones((3,3))\n",
    "print(f'Create and array of ones : \\n {arr3}')\n",
    "\n",
    "#Create an array of evenly spaced values\n",
    "arr4=np.arange(0,10,2)\n",
    "print(f'Create an array of evenly spaced values : \\n {arr4}')\n",
    "\n",
    "#Create an array of random values\n",
    "arr5=np.random.rand(3,3)\n",
    "print(f'Create an array of random values : \\n {arr5}')"
   ]
  },
  {
   "cell_type": "code",
   "execution_count": 14,
   "id": "c7fea0ad-21b5-4ab3-bdea-336afe6d2455",
   "metadata": {},
   "outputs": [
    {
     "name": "stdout",
     "output_type": "stream",
     "text": [
      "(5,)\n",
      "5\n",
      "int32\n"
     ]
    }
   ],
   "source": [
    "#Array Attributes : Shape, size, dtype\n",
    "\n",
    "#Shape of the array\n",
    "print(arr1.shape)\n",
    "\n",
    "#Size of teh arrays\n",
    "print(arr1.size)\n",
    "\n",
    "#Data type of the array\n",
    "print(arr1.dtype)"
   ]
  },
  {
   "cell_type": "code",
   "execution_count": 15,
   "id": "1c5e580a-2ac4-477a-b999-b953f809cc5c",
   "metadata": {},
   "outputs": [
    {
     "name": "stdout",
     "output_type": "stream",
     "text": [
      "1\n",
      "[2 3 4]\n"
     ]
    }
   ],
   "source": [
    "#Indexing and slicing arrays\n",
    "\n",
    "#accessing elements\n",
    "print(arr1[0])\n",
    "\n",
    "#slicing\n",
    "print(arr1[1:4])"
   ]
  },
  {
   "cell_type": "code",
   "execution_count": 18,
   "id": "f452c204-497e-4397-8aaf-9e2d6b072578",
   "metadata": {},
   "outputs": [
    {
     "name": "stdout",
     "output_type": "stream",
     "text": [
      "[1. 2. 3. 4. 5.]\n",
      "15\n",
      "[ 2  4  6  8 10]\n"
     ]
    }
   ],
   "source": [
    "#Array operations: Aritjmatic, aggregation, broadcasting\n",
    "\n",
    "#Arithmatic operations\n",
    "arr6=arr1+arr2\n",
    "print(arr6)\n",
    "\n",
    "#Aggregating Functions\n",
    "print(np.sum(arr1))\n",
    "\n",
    "#Broadcasting\n",
    "arr7=arr1*2\n",
    "print(arr7)"
   ]
  },
  {
   "cell_type": "markdown",
   "id": "ae2a75c4-5374-4ad2-87e5-991a48cbdb9d",
   "metadata": {},
   "source": [
    "Array Manipulation"
   ]
  },
  {
   "cell_type": "code",
   "execution_count": 25,
   "id": "125f85d0-e125-4703-80a9-e0c87f2abe02",
   "metadata": {},
   "outputs": [
    {
     "name": "stdout",
     "output_type": "stream",
     "text": [
      "[[0 1 2]\n",
      " [3 4 5]\n",
      " [6 7 8]]\n"
     ]
    }
   ],
   "source": [
    "#Reshaping Arrays\n",
    "\n",
    "#Reshape array\n",
    "arr8=np.arange(9).reshape(3,3)\n",
    "print(arr8)"
   ]
  },
  {
   "cell_type": "code",
   "execution_count": 27,
   "id": "0f1e2388-a6ac-4d94-b1ec-86a825b198ef",
   "metadata": {},
   "outputs": [
    {
     "name": "stdout",
     "output_type": "stream",
     "text": [
      "[[0 1 2]\n",
      " [3 4 5]\n",
      " [6 7 8]\n",
      " [0 1 2]\n",
      " [3 4 5]\n",
      " [6 7 8]]\n"
     ]
    }
   ],
   "source": [
    "#Stacking and Splitting Arrays\n",
    "#Stacking arrays vertically\n",
    "arr9=np.vstack((arr8,arr8))\n",
    "print(arr9)"
   ]
  },
  {
   "cell_type": "code",
   "execution_count": 23,
   "id": "2d6abbcf-f011-46be-9ef6-6e17d43315f5",
   "metadata": {},
   "outputs": [
    {
     "name": "stdout",
     "output_type": "stream",
     "text": [
      "[[0 1 2]\n",
      " [3 4 5]\n",
      " [6 7 8]] [[0 1 2]\n",
      " [3 4 5]\n",
      " [6 7 8]]\n"
     ]
    }
   ],
   "source": [
    "#Splitting Arrays\n",
    "arr10,arr11=np.split(arr9,2)\n",
    "print(arr10,arr11)"
   ]
  },
  {
   "cell_type": "code",
   "execution_count": 28,
   "id": "65ae69f1-46f7-46ed-b434-07a410c6435e",
   "metadata": {},
   "outputs": [
    {
     "name": "stdout",
     "output_type": "stream",
     "text": [
      "[[0 3 6]\n",
      " [1 4 7]\n",
      " [2 5 8]]\n"
     ]
    }
   ],
   "source": [
    "#Transposing arrays\n",
    "#transpose Array\n",
    "arr12=arr8.T\n",
    "print(arr12)"
   ]
  },
  {
   "cell_type": "code",
   "execution_count": 29,
   "id": "2a2b450c-3307-4b4a-8d82-33c39531c8d5",
   "metadata": {},
   "outputs": [
    {
     "name": "stdout",
     "output_type": "stream",
     "text": [
      "[ 0.84147098  0.90929743  0.14112001 -0.7568025  -0.95892427]\n"
     ]
    }
   ],
   "source": [
    "#Universal functions (ufuncs)\n",
    "#universal functions\n",
    "arr13=np.sin(arr1)\n",
    "print(arr13)"
   ]
  },
  {
   "cell_type": "markdown",
   "id": "9df29d7e-240f-4e84-a81b-b082a62bade9",
   "metadata": {},
   "source": [
    "Advanced NumPy"
   ]
  },
  {
   "cell_type": "code",
   "execution_count": 31,
   "id": "3f23b793-7eb5-463e-b56c-ce4f7d7ea7a7",
   "metadata": {},
   "outputs": [
    {
     "name": "stdout",
     "output_type": "stream",
     "text": [
      "[1 3 5]\n"
     ]
    }
   ],
   "source": [
    "#Fancy Indexing\n",
    "indices=np.array([0,2,4])\n",
    "print(arr1[indices])"
   ]
  },
  {
   "cell_type": "code",
   "execution_count": 32,
   "id": "a930634a-c388-42aa-a8af-0bba1539b1e0",
   "metadata": {},
   "outputs": [
    {
     "name": "stdout",
     "output_type": "stream",
     "text": [
      "[4 5]\n"
     ]
    }
   ],
   "source": [
    "#Boolean Indexing\n",
    "bool_arr=arr1 > 3\n",
    "print(arr1[bool_arr])"
   ]
  },
  {
   "cell_type": "code",
   "execution_count": 34,
   "id": "1fa9965b-6933-492c-8b8b-5f51a6b03822",
   "metadata": {},
   "outputs": [
    {
     "name": "stdout",
     "output_type": "stream",
     "text": [
      "[11 12 13 14 15]\n"
     ]
    }
   ],
   "source": [
    "#Vectorized operation\n",
    "arr14=arr1+10\n",
    "print(arr14)"
   ]
  },
  {
   "cell_type": "code",
   "execution_count": 35,
   "id": "52761f46-8e99-4b20-9419-583c4aafd7b8",
   "metadata": {},
   "outputs": [
    {
     "name": "stdout",
     "output_type": "stream",
     "text": [
      "[[11 12 13 14 15]\n",
      " [21 22 23 24 25]\n",
      " [31 32 33 34 35]\n",
      " [41 42 43 44 45]\n",
      " [51 52 53 54 55]]\n"
     ]
    }
   ],
   "source": [
    "#Broadcasting\n",
    "arr15=arr1+np.array([[10],[20],[30],[40],[50]])\n",
    "print(arr15)"
   ]
  },
  {
   "cell_type": "code",
   "execution_count": null,
   "id": "46c87d99-1b5e-40d8-81e3-1e413e89fd3b",
   "metadata": {},
   "outputs": [],
   "source": []
  }
 ],
 "metadata": {
  "kernelspec": {
   "display_name": "Python 3 (ipykernel)",
   "language": "python",
   "name": "python3"
  },
  "language_info": {
   "codemirror_mode": {
    "name": "ipython",
    "version": 3
   },
   "file_extension": ".py",
   "mimetype": "text/x-python",
   "name": "python",
   "nbconvert_exporter": "python",
   "pygments_lexer": "ipython3",
   "version": "3.11.7"
  }
 },
 "nbformat": 4,
 "nbformat_minor": 5
}
